{
  "nbformat": 4,
  "nbformat_minor": 0,
  "metadata": {
    "colab": {
      "name": "Bitcoin Mining With Python.ipynb",
      "provenance": [],
      "authorship_tag": "ABX9TyPzRq5srBL8uXzCJLgjagrx",
      "include_colab_link": true
    },
    "kernelspec": {
      "name": "python3",
      "display_name": "Python 3"
    },
    "accelerator": "GPU"
  },
  "cells": [
    {
      "cell_type": "markdown",
      "metadata": {
        "id": "view-in-github",
        "colab_type": "text"
      },
      "source": [
        "<a href=\"https://colab.research.google.com/github/suryagokul/Bitcoin-Mining-Using-Python/blob/master/Mining%20with%20python.ipynb\" target=\"_parent\"><img src=\"https://colab.research.google.com/assets/colab-badge.svg\" alt=\"Open In Colab\"/></a>"
      ]
    },
    {
      "cell_type": "markdown",
      "metadata": {
        "id": "k_lI3VLxuC9k"
      },
      "source": [
        "`The SHA (Secure Hash Algorithm) is one of a number of cryptographic hash functions. A cryptographic hash is like a signature for a data set. If you would like to compare two sets of raw data (source of the file, text or similar) it is always better to hash it and compare SHA256 values. It is like the fingerprints of the data. Even if only one symbol is changed the algorithm will produce different hash value. SHA256 algorithm generates an almost-unique, fixed size 256-bit (32-byte) hash. Hash is so called a one way function. This makes it suitable for checking integrity of your data, challenge hash authentication, anti-tamper, digital signatures, blockchain.`\r\n",
        "\r\n",
        "`The hashes are calculated using one way functions, i.e. it will give same output for a particular input but as it is only a one-way function, no matter what you do, you cannot decrypt it. One can try decrypting it by brute force, i.e calculating hashes of words from dictionary and comparing it with the hash you want to decrypt. To save the time of calculating the hashes of dictionary words, there are rainbow tables available online which contains hashes with the words.`\r\n",
        "\r\n",
        "\r\n",
        "\r\n",
        "`With the newest hardware (CPU and GPU) improvements it is become possible to decrypt SHA256 algorithm back. So it is no longer recommended to use it for password protection or other similar use cases. Some years ago you would protect your passwords from hackers by storing SHA256 encrypted password in the your data base. This is no longer a case.`\r\n",
        "\r\n"
      ]
    },
    {
      "cell_type": "code",
      "metadata": {
        "id": "DKQzGBV9sNGm"
      },
      "source": [
        "from hashlib import sha256\r\n",
        "\r\n",
        "def SHA256(text):\r\n",
        "  return sha256(text.encode('ascii')).hexdigest()                "
      ],
      "execution_count": 1,
      "outputs": []
    },
    {
      "cell_type": "markdown",
      "metadata": {
        "id": "usxCrwd7seeI"
      },
      "source": [
        "`To get 64 bit hexadecimal use hexdigest().Each and every hexadecimal bit represents four binary bits.`\r\n",
        "\r\n",
        "`Therefore 64 * 4 = 256 bits which is hashed...`"
      ]
    },
    {
      "cell_type": "markdown",
      "metadata": {
        "id": "j7Y3Au_buvQ6"
      },
      "source": [
        "`SHA256 algorithm can be still used for making sure you acquired the same data as the original one. For example if you download something you can easily check if data has not changed due to network errors or malware injection. You can compare hashes of your file and original one which is usually provided in the website you are getting data or the file from.`"
      ]
    },
    {
      "cell_type": "code",
      "metadata": {
        "id": "v4NbzMG0BFKy"
      },
      "source": [
        "import time"
      ],
      "execution_count": 4,
      "outputs": []
    },
    {
      "cell_type": "code",
      "metadata": {
        "id": "gI66LM5v4lbK"
      },
      "source": [
        "MAX_NONCE = 100000000\r\n",
        "\r\n",
        "def mine(block_number, transactions, previous_hash, prefix_zeros):\r\n",
        "  \r\n",
        "  for nonce in range(MAX_NONCE):\r\n",
        "  \r\n",
        "    text = str(block_number) + transactions + previous_hash + str(nonce)\r\n",
        "    \r\n",
        "    if SHA256(text)[:prefix_zeros] == '0'*prefix_zeros :\r\n",
        "      \r\n",
        "      print(f\"Yay! Successfully mined bitcoins with nonce value : {nonce}\")\r\n",
        "      \r\n",
        "      return SHA256(text)\r\n",
        "  \r\n",
        "  raise BaseException(f\"Couldn't find correct has after trying {MAX_NONCE} times\")"
      ],
      "execution_count": 15,
      "outputs": []
    },
    {
      "cell_type": "code",
      "metadata": {
        "colab": {
          "base_uri": "https://localhost:8080/"
        },
        "id": "kRjgRtH1sb8n",
        "outputId": "bca572f6-231e-4bc4-feb4-068c725a9edc"
      },
      "source": [
        "transactions = '''surya->krish->150,       \r\n",
        "                  paul->jiwitesh->250 '''\r\n",
        "difficulty = 6\r\n",
        "\r\n",
        "start_time = time.time()\r\n",
        "\r\n",
        "new_hash = mine(5,transactions,'874c244ac5865ad70e56c920ec2308985be2f6701cd6043b43c8a3c25699a7d9',difficulty)\r\n",
        "\r\n",
        "print('-'*20)\r\n",
        "\r\n",
        "print(f\"Total time taken to mine bitcoin is : {str(time.time() - start_time)} seconds\")"
      ],
      "execution_count": 18,
      "outputs": [
        {
          "output_type": "stream",
          "text": [
            "Yay! Successfully mined bitcoins with nonce value : 2879860\n",
            "--------------------\n",
            "Total time taken to mine bitcoin is : 5.147008895874023 seconds\n"
          ],
          "name": "stdout"
        }
      ]
    },
    {
      "cell_type": "code",
      "metadata": {
        "colab": {
          "base_uri": "https://localhost:8080/",
          "height": 35
        },
        "id": "HAKEr2ap7GtX",
        "outputId": "a22749ce-040f-47cc-d774-53a2e700d8a6"
      },
      "source": [
        "new_hash"
      ],
      "execution_count": 19,
      "outputs": [
        {
          "output_type": "execute_result",
          "data": {
            "application/vnd.google.colaboratory.intrinsic+json": {
              "type": "string"
            },
            "text/plain": [
              "'0000008f0867433776bb48da8d9892715350ac7ca5808306bcec82ec0ef0e423'"
            ]
          },
          "metadata": {
            "tags": []
          },
          "execution_count": 19
        }
      ]
    },
    {
      "cell_type": "markdown",
      "metadata": {
        "id": "8mFy4G9aD9MV"
      },
      "source": [
        "`As we increase difficulty level it takes almost  year to mine a bitcoin...We increase max nonce to some trillions if difficulty level is high..`\r\n",
        "\r\n",
        "`At first when satoshi nakamoto created bitcoin, then block1 difficulty level is approximately 7 or 8 but now it is 20...`\r\n",
        "\r\n",
        "`Currently per block we can get 6.2 bitcoins....`"
      ]
    }
  ]
}